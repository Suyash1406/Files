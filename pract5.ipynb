{
 "cells": [
  {
   "cell_type": "code",
   "execution_count": 2,
   "id": "98d5626b",
   "metadata": {},
   "outputs": [],
   "source": [
    "# ?implement logistics regression\n",
    "# compute confusion matrix find tp tn fp fn,accuracy \n",
    "# err rate ,Presicion,Recall on given dataset"
   ]
  },
  {
   "cell_type": "code",
   "execution_count": 3,
   "id": "47022487",
   "metadata": {},
   "outputs": [],
   "source": [
    "import numpy as np\n",
    "import pandas as pd\n",
    "import matplotlib.pyplot as plt\n",
    "from sklearn.model_selection import train_test_split\n",
    "from math import exp"
   ]
  },
  {
   "cell_type": "code",
   "execution_count": 4,
   "id": "45c00128",
   "metadata": {},
   "outputs": [
    {
     "data": {
      "text/html": [
       "<div>\n",
       "<style scoped>\n",
       "    .dataframe tbody tr th:only-of-type {\n",
       "        vertical-align: middle;\n",
       "    }\n",
       "\n",
       "    .dataframe tbody tr th {\n",
       "        vertical-align: top;\n",
       "    }\n",
       "\n",
       "    .dataframe thead th {\n",
       "        text-align: right;\n",
       "    }\n",
       "</style>\n",
       "<table border=\"1\" class=\"dataframe\">\n",
       "  <thead>\n",
       "    <tr style=\"text-align: right;\">\n",
       "      <th></th>\n",
       "      <th>User ID</th>\n",
       "      <th>Age</th>\n",
       "      <th>EstimatedSalary</th>\n",
       "      <th>Purchased</th>\n",
       "    </tr>\n",
       "  </thead>\n",
       "  <tbody>\n",
       "    <tr>\n",
       "      <th>count</th>\n",
       "      <td>5.000000e+00</td>\n",
       "      <td>5.000000</td>\n",
       "      <td>5.000000</td>\n",
       "      <td>5.0</td>\n",
       "    </tr>\n",
       "    <tr>\n",
       "      <th>mean</th>\n",
       "      <td>1.570226e+07</td>\n",
       "      <td>25.200000</td>\n",
       "      <td>43000.000000</td>\n",
       "      <td>0.0</td>\n",
       "    </tr>\n",
       "    <tr>\n",
       "      <th>std</th>\n",
       "      <td>9.892821e+04</td>\n",
       "      <td>6.648308</td>\n",
       "      <td>24443.813123</td>\n",
       "      <td>0.0</td>\n",
       "    </tr>\n",
       "    <tr>\n",
       "      <th>min</th>\n",
       "      <td>1.560325e+07</td>\n",
       "      <td>19.000000</td>\n",
       "      <td>19000.000000</td>\n",
       "      <td>0.0</td>\n",
       "    </tr>\n",
       "    <tr>\n",
       "      <th>25%</th>\n",
       "      <td>1.562451e+07</td>\n",
       "      <td>19.000000</td>\n",
       "      <td>20000.000000</td>\n",
       "      <td>0.0</td>\n",
       "    </tr>\n",
       "    <tr>\n",
       "      <th>50%</th>\n",
       "      <td>1.566858e+07</td>\n",
       "      <td>26.000000</td>\n",
       "      <td>43000.000000</td>\n",
       "      <td>0.0</td>\n",
       "    </tr>\n",
       "    <tr>\n",
       "      <th>75%</th>\n",
       "      <td>1.580400e+07</td>\n",
       "      <td>27.000000</td>\n",
       "      <td>57000.000000</td>\n",
       "      <td>0.0</td>\n",
       "    </tr>\n",
       "    <tr>\n",
       "      <th>max</th>\n",
       "      <td>1.581094e+07</td>\n",
       "      <td>35.000000</td>\n",
       "      <td>76000.000000</td>\n",
       "      <td>0.0</td>\n",
       "    </tr>\n",
       "  </tbody>\n",
       "</table>\n",
       "</div>"
      ],
      "text/plain": [
       "            User ID        Age  EstimatedSalary  Purchased\n",
       "count  5.000000e+00   5.000000         5.000000        5.0\n",
       "mean   1.570226e+07  25.200000     43000.000000        0.0\n",
       "std    9.892821e+04   6.648308     24443.813123        0.0\n",
       "min    1.560325e+07  19.000000     19000.000000        0.0\n",
       "25%    1.562451e+07  19.000000     20000.000000        0.0\n",
       "50%    1.566858e+07  26.000000     43000.000000        0.0\n",
       "75%    1.580400e+07  27.000000     57000.000000        0.0\n",
       "max    1.581094e+07  35.000000     76000.000000        0.0"
      ]
     },
     "execution_count": 4,
     "metadata": {},
     "output_type": "execute_result"
    }
   ],
   "source": [
    "df = pd.read_csv('pract5.csv')\n",
    "df.head()\n",
    "df.head().describe()"
   ]
  },
  {
   "cell_type": "code",
   "execution_count": 5,
   "id": "154e571e",
   "metadata": {},
   "outputs": [
    {
     "data": {
      "image/png": "[encoded data removed]",
      "text/plain": [
       "<Figure size 640x480 with 1 Axes>"
      ]
     },
     "metadata": {},
     "output_type": "display_data"
    }
   ],
   "source": [
    "# visulization of dataset\n",
    "\n",
    "plt.scatter(df.Age,df.Purchased)\n",
    "plt.xlabel('age')\n",
    "plt.ylabel('purchased')\n",
    "plt.show()\n",
    "\n",
    "# devide the dataset to training and test set\n",
    "X_train,X_test,Y_train,Y_test = train_test_split(df.Age,df.Purchased,test_size=0.29)"
   ]
  },
  {
   "cell_type": "code",
   "execution_count": 9,
   "id": "835702d3",
   "metadata": {},
   "outputs": [
    {
     "name": "stdout",
     "output_type": "stream",
     "text": [
      "True Negatives:  56\n",
      "False Positives:  6\n",
      "False Negatives:  13\n",
      "True Positives:  25\n",
      "Accuracy : 81.00%\n",
      "Precision 0.81\n",
      "Recall 0.66\n",
      "Error rate 0.19\n"
     ]
    }
   ],
   "source": [
    "import numpy as np\n",
    "import pandas as pd\n",
    "import matplotlib.pyplot as plt\n",
    "from sklearn.model_selection import train_test_split\n",
    "from sklearn.linear_model import LogisticRegression\n",
    "from sklearn.metrics import confusion_matrix\n",
    "\n",
    "df = pd.read_csv('pract5.csv')\n",
    "\n",
    "# Split the data into features and labels\n",
    "X_train, X_test, y_train, y_test = train_test_split(df[['Age']], df['Purchased'], test_size=0.29)\n",
    "\n",
    "# Train the logistic regression model\n",
    "model = LogisticRegression()\n",
    "model.fit(X_train, y_train)\n",
    "\n",
    "# Make predictions on the test set\n",
    "y_pred = model.predict(X_test)\n",
    "\n",
    "# Calculate the confusion matrix\n",
    "tn, fp, fn, tp = confusion_matrix(y_test, y_pred).ravel()\n",
    "\n",
    "# print values\n",
    "print(\"True Negatives: \",tn)\n",
    "print(\"False Positives: \",fp)\n",
    "print(\"False Negatives: \",fn)\n",
    "print(\"True Positives: \",tp)\n",
    "\n",
    "Accuracy = (tn+tp)*100/(tn+tp+fp+fn)\n",
    "print(\"Accuracy : {:0.2f}%\".format(Accuracy))\n",
    "\n",
    "#Precision\n",
    "Precision = tp/(tp+fp)\n",
    "print(\"Precision {:0.2f}\".format(Precision))\n",
    "\n",
    "#Recall\n",
    "Recall = tp/(tp+fn)\n",
    "print(\"Recall {:0.2f}\".format(Recall))\n",
    "\n",
    "#Error rate\n",
    "err = (fp + fn)/(tp + tn + fn + fp)\n",
    "print(\"Error rate {:0.2f}\".format(err))\n"
   ]
  }
 ],
 "metadata": {
  "kernelspec": {
   "display_name": "Python 3 (ipykernel)",
   "language": "python",
   "name": "python3"
  },
  "language_info": {
   "codemirror_mode": {
    "name": "ipython",
    "version": 3
   },
   "file_extension": ".py",
   "mimetype": "text/x-python",
   "name": "python",
   "nbconvert_exporter": "python",
   "pygments_lexer": "ipython3",
   "version": "3.9.13"
  }
 },
 "nbformat": 4,
 "nbformat_minor": 5
}
