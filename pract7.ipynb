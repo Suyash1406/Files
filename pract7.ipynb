{
 "cells": [
  {
   "cell_type": "code",
   "execution_count": 2,
   "id": "1330ce38",
   "metadata": {},
   "outputs": [
    {
     "name": "stderr",
     "output_type": "stream",
     "text": [
      "[nltk_data] Downloading package punkt to\n",
      "[nltk_data]     C:\\Users\\akash\\AppData\\Roaming\\nltk_data...\n",
      "[nltk_data]   Package punkt is already up-to-date!\n"
     ]
    },
    {
     "data": {
      "text/plain": [
       "True"
      ]
     },
     "execution_count": 2,
     "metadata": {},
     "output_type": "execute_result"
    }
   ],
   "source": [
    "nltk.download('punkt')"
   ]
  },
  {
   "cell_type": "code",
   "execution_count": 8,
   "id": "9bb9b6c1",
   "metadata": {},
   "outputs": [
    {
     "name": "stdout",
     "output_type": "stream",
     "text": [
      "Original Document:\n",
      " This is a sample document for pre-processing. It includes tokenization, POS tagging, stop words removal, stemming, and lemmatization.\n",
      "\n",
      "Tokenization:\n",
      " ['This', 'is', 'a', 'sample', 'document', 'for', 'pre-processing', '.', 'It', 'includes', 'tokenization', ',', 'POS', 'tagging', ',', 'stop', 'words', 'removal', ',', 'stemming', ',', 'and', 'lemmatization', '.']\n",
      "\n",
      "POS Tagging:\n",
      " [('This', 'DT'), ('is', 'VBZ'), ('a', 'DT'), ('sample', 'JJ'), ('document', 'NN'), ('for', 'IN'), ('pre-processing', 'NN'), ('.', '.'), ('It', 'PRP'), ('includes', 'VBZ'), ('tokenization', 'NN'), (',', ','), ('POS', 'NNP'), ('tagging', 'NN'), (',', ','), ('stop', 'VB'), ('words', 'NNS'), ('removal', 'JJ'), (',', ','), ('stemming', 'VBG'), (',', ','), ('and', 'CC'), ('lemmatization', 'NN'), ('.', '.')]\n",
      "\n",
      "Stop Words Removal:\n",
      " ['sample', 'document', 'pre-processing', '.', 'includes', 'tokenization', ',', 'POS', 'tagging', ',', 'stop', 'words', 'removal', ',', 'stemming', ',', 'lemmatization', '.']\n",
      "\n",
      "Stemming:\n",
      " ['sampl', 'document', 'pre-process', '.', 'includ', 'token', ',', 'po', 'tag', ',', 'stop', 'word', 'remov', ',', 'stem', ',', 'lemmat', '.']\n",
      "\n",
      "Lemmatization:\n",
      " ['sample', 'document', 'pre-processing', '.', 'includes', 'tokenization', ',', 'POS', 'tagging', ',', 'stop', 'word', 'removal', ',', 'stemming', ',', 'lemmatization', '.']\n",
      "\n",
      "Term Frequency (TF):\n",
      " [[0.2773501 0.2773501 0.2773501 0.2773501 0.2773501 0.2773501 0.2773501\n",
      "  0.2773501 0.2773501 0.2773501 0.2773501 0.2773501 0.2773501]]\n",
      "\n",
      "Inverse Document Frequency (IDF):\n",
      " [[0.2773501 0.2773501 0.2773501 0.2773501 0.2773501 0.2773501 0.2773501\n",
      "  0.2773501 0.2773501 0.2773501 0.2773501 0.2773501 0.2773501]]\n"
     ]
    }
   ],
   "source": [
    "import nltk\n",
    "from nltk.corpus import stopwords\n",
    "from nltk.stem import PorterStemmer, WordNetLemmatizer\n",
    "from sklearn.feature_extraction.text import TfidfVectorizer\n",
    "\n",
    "# Sample document\n",
    "document = \"This is a sample document for pre-processing. It includes tokenization, POS tagging, stop words removal, stemming, and lemmatization.\"\n",
    "\n",
    "# Tokenization\n",
    "tokens = nltk.word_tokenize(document)\n",
    "\n",
    "# POS Tagging\n",
    "pos_tags = nltk.pos_tag(tokens)\n",
    "\n",
    "# Stop Words Removal\n",
    "stop_words = set(stopwords.words('english'))\n",
    "filtered_tokens = [token for token in tokens if token.lower() not in stop_words]\n",
    "\n",
    "# Stemming\n",
    "stemmer = PorterStemmer()\n",
    "stemmed_tokens = [stemmer.stem(token) for token in filtered_tokens]\n",
    "\n",
    "# Lemmatization\n",
    "lemmatizer = WordNetLemmatizer()\n",
    "lemmatized_tokens = [lemmatizer.lemmatize(token) for token in filtered_tokens]\n",
    "\n",
    "# Term Frequency (TF)\n",
    "tf_vectorizer = TfidfVectorizer(use_idf=False, norm=None)\n",
    "tf_matrix = tf_vectorizer.fit_transform([' '.join(tokens)])\n",
    "\n",
    "\n",
    "# Inverse Document Frequency (IDF)\n",
    "idf_vectorizer = TfidfVectorizer(use_idf=True, norm=None)\n",
    "idf_matrix = idf_vectorizer.fit_transform([' '.join(tokens)])\n",
    "\n",
    "# Print results\n",
    "print(\"Original Document:\\n\", document)\n",
    "print(\"\\nTokenization:\\n\", tokens)\n",
    "print(\"\\nPOS Tagging:\\n\", pos_tags)\n",
    "print(\"\\nStop Words Removal:\\n\", filtered_tokens)\n",
    "print(\"\\nStemming:\\n\", stemmed_tokens)\n",
    "print(\"\\nLemmatization:\\n\", lemmatized_tokens)\n",
    "print(\"\\nTerm Frequency (TF):\\n\", tf_matrix.toarray())\n",
    "print(\"\\nInverse Document Frequency (IDF):\\n\", idf_matrix.toarray())\n"
   ]
  },
  {
   "cell_type": "code",
   "execution_count": null,
   "id": "b5e3b2ad",
   "metadata": {},
   "outputs": [],
   "source": [
    "    "
   ]
  },
  {
   "cell_type": "code",
   "execution_count": null,
   "id": "4cd34d91",
   "metadata": {},
   "outputs": [],
   "source": []
  }
 ],
 "metadata": {
  "kernelspec": {
   "display_name": "Python 3 (ipykernel)",
   "language": "python",
   "name": "python3"
  },
  "language_info": {
   "codemirror_mode": {
    "name": "ipython",
    "version": 3
   },
   "file_extension": ".py",
   "mimetype": "text/x-python",
   "name": "python",
   "nbconvert_exporter": "python",
   "pygments_lexer": "ipython3",
   "version": "3.9.13"
  }
 },
 "nbformat": 4,
 "nbformat_minor": 5
}
